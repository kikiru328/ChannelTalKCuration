{
 "cells": [
  {
   "cell_type": "code",
   "execution_count": 15,
   "metadata": {},
   "outputs": [],
   "source": [
    "import requests\n",
    "\n",
    "headers = {\n",
    "    'accept': 'application/json',\n",
    "    'x-access-key': '62c7984897721f282db3',\n",
    "    'x-access-secret': 'ef5f908abc1a0d2dfadeac988dd8cef2',\n",
    "}\n",
    "\n",
    "params = {\n",
    "    'sortOrder': 'desc',\n",
    "    'limit': '25',\n",
    "}\n",
    "\n",
    "response = requests.get('https://api.channel.io/open/v5/user-chats/62ccd20142093147104b/messages', params=params, headers=headers)"
   ]
  },
  {
   "cell_type": "code",
   "execution_count": 21,
   "metadata": {},
   "outputs": [
    {
     "data": {
      "text/plain": [
       "{'chatKey': 'userChat-62ccd20142093147104b',\n",
       " 'id': '62ccd20283828fc56316',\n",
       " 'mainKey': '62ccd20283828fc56316',\n",
       " 'root': False,\n",
       " 'channelId': '95334',\n",
       " 'chatType': 'userChat',\n",
       " 'chatId': '62ccd20142093147104b',\n",
       " 'personType': 'user',\n",
       " 'personId': '62b945681778f6d16a79',\n",
       " 'requestId': '165759027391872z6',\n",
       " 'language': 'ko',\n",
       " 'createdAt': 1657590274538,\n",
       " 'version': 1,\n",
       " 'blocks': [{'type': 'text', 'value': ':bouquet: 무료 식단 큐레이션 받기'}],\n",
       " 'plainText': '💐 무료 식단 큐레이션 받기',\n",
       " 'updatedAt': 1657590274538,\n",
       " 'options': ['immutable', 'doNotSearch'],\n",
       " 'supportBot': {'id': '43684',\n",
       "  'revisionId': '154043',\n",
       "  'sectionId': 'A',\n",
       "  'submitButtonIndex': 0},\n",
       " 'threadMsg': False,\n",
       " 'broadcastedMsg': False}"
      ]
     },
     "execution_count": 21,
     "metadata": {},
     "output_type": "execute_result"
    }
   ],
   "source": [
    "response.json().get('messages')[18]"
   ]
  },
  {
   "cell_type": "code",
   "execution_count": 3,
   "metadata": {},
   "outputs": [],
   "source": [
    "import json\n",
    "\n",
    "with open('respo.json','r') as file_:\n",
    "    respo = json.load(file_)"
   ]
  },
  {
   "cell_type": "code",
   "execution_count": 5,
   "metadata": {},
   "outputs": [
    {
     "data": {
      "text/plain": [
       "dict_keys(['messages', 'bots', 'users', 'supportBots', 'automationRules'])"
      ]
     },
     "execution_count": 5,
     "metadata": {},
     "output_type": "execute_result"
    }
   ],
   "source": [
    "respo.keys()"
   ]
  },
  {
   "cell_type": "code",
   "execution_count": 14,
   "metadata": {},
   "outputs": [
    {
     "ename": "AttributeError",
     "evalue": "'dict' object has no attribute 'encoding'",
     "output_type": "error",
     "traceback": [
      "\u001b[0;31m---------------------------------------------------------------------------\u001b[0m",
      "\u001b[0;31mAttributeError\u001b[0m                            Traceback (most recent call last)",
      "\u001b[1;32m/Volumes/GoogleDrive/내 드라이브/Enterprise/AGP/Curation/flask_webhook/Json_nt.ipynb 셀 3\u001b[0m in \u001b[0;36m<cell line: 1>\u001b[0;34m()\u001b[0m\n\u001b[0;32m----> <a href='vscode-notebook-cell:/Volumes/GoogleDrive/%EB%82%B4%20%EB%93%9C%EB%9D%BC%EC%9D%B4%EB%B8%8C/Enterprise/AGP/Curation/flask_webhook/Json_nt.ipynb#ch0000030?line=0'>1</a>\u001b[0m respo\u001b[39m.\u001b[39;49mencoding\n",
      "\u001b[0;31mAttributeError\u001b[0m: 'dict' object has no attribute 'encoding'"
     ]
    }
   ],
   "source": []
  },
  {
   "cell_type": "code",
   "execution_count": null,
   "metadata": {},
   "outputs": [],
   "source": []
  }
 ],
 "metadata": {
  "kernelspec": {
   "display_name": "Python 3.9.13 ('flask')",
   "language": "python",
   "name": "python3"
  },
  "language_info": {
   "codemirror_mode": {
    "name": "ipython",
    "version": 3
   },
   "file_extension": ".py",
   "mimetype": "text/x-python",
   "name": "python",
   "nbconvert_exporter": "python",
   "pygments_lexer": "ipython3",
   "version": "3.9.13"
  },
  "orig_nbformat": 4,
  "vscode": {
   "interpreter": {
    "hash": "599c463adfc593d5c107f66c72e1082c99f6ea00c263d4dfdf36c7ebac615176"
   }
  }
 },
 "nbformat": 4,
 "nbformat_minor": 2
}
