{
 "cells": [
  {
   "cell_type": "code",
   "execution_count": 7,
   "metadata": {},
   "outputs": [],
   "source": [
    "import json\n",
    "with open('./content.json','r',encoding='UTF-8-sig') as file_:\n",
    "    content = json.load(file_)"
   ]
  },
  {
   "cell_type": "code",
   "execution_count": 9,
   "metadata": {},
   "outputs": [
    {
     "data": {
      "text/plain": [
       "dict_keys(['event', 'entity', 'refers', 'type'])"
      ]
     },
     "execution_count": 9,
     "metadata": {},
     "output_type": "execute_result"
    }
   ],
   "source": [
    "content.keys()"
   ]
  },
  {
   "cell_type": "code",
   "execution_count": 26,
   "metadata": {},
   "outputs": [],
   "source": [
    "user_profile = content['refers']['user']['profile']"
   ]
  },
  {
   "cell_type": "code",
   "execution_count": 30,
   "metadata": {},
   "outputs": [],
   "source": [
    "user_name = user_profile['name']\n",
    "user_mbno = user_profile['mobileNumber']\n",
    "user_height = user_profile['height']\n",
    "user_age = user_profile['age']\n",
    "user_weight = user_profile['weight']\n",
    "user_activation = user_profile['activation']\n",
    "user_goal = user_profile['goal']\n",
    "user_hydrate = user_profile['hydrate']\n",
    "user_worries = user_profile['worries']\n",
    "user_dining = user_profile['number_dining']\n",
    "user_goal_shape = user_profile['goal_shape']"
   ]
  },
  {
   "cell_type": "code",
   "execution_count": 31,
   "metadata": {},
   "outputs": [
    {
     "name": "stdout",
     "output_type": "stream",
     "text": [
      "광훈🦑\n",
      "+821036160447\n",
      "180\n",
      "89\n",
      "30\n",
      "보통 (주2회이상)\n",
      "5Kg 이상의 감량을 원하세요?\n",
      "1L 이하\n",
      "['적당한 체중 감량 (3개월 이상)', '클린한 점심식사 해결']\n",
      "3회\n",
      "보통 체형\n"
     ]
    }
   ],
   "source": [
    "print(user_name)\n",
    "print(user_mbno)\n",
    "print(user_height)\n",
    "print(user_weight)\n",
    "print(user_age)\n",
    "print(user_activation)\n",
    "print(user_goal)\n",
    "print(user_hydrate)\n",
    "print(user_worries)\n",
    "print(user_dining)\n",
    "print(user_goal_shape)"
   ]
  },
  {
   "cell_type": "code",
   "execution_count": 45,
   "metadata": {},
   "outputs": [
    {
     "name": "stdout",
     "output_type": "stream",
     "text": [
      "1. 기본정보\n",
      "[광훈🦑]님의\n",
      "기초대사량은 [calcuation] 입니다!\n",
      "\n",
      "2.활동량 + 3.목표\n",
      "활동량이 [B / 꽤 있으시군요, 아주 좋습니다.\n"
     ]
    }
   ],
   "source": [
    "print(f'1. 기본정보\\n[{user_name}]님의\\n기초대사량은 [calcuation] 입니다!\\n\\n2.활동량 + 3.목표\\n활동량이 [B / 꽤 있으시군요, 아주 좋습니다.')"
   ]
  },
  {
   "cell_type": "code",
   "execution_count": null,
   "metadata": {},
   "outputs": [],
   "source": []
  }
 ],
 "metadata": {
  "kernelspec": {
   "display_name": "Python 3.9.12 ('flask')",
   "language": "python",
   "name": "python3"
  },
  "language_info": {
   "codemirror_mode": {
    "name": "ipython",
    "version": 3
   },
   "file_extension": ".py",
   "mimetype": "text/x-python",
   "name": "python",
   "nbconvert_exporter": "python",
   "pygments_lexer": "ipython3",
   "version": "3.9.12"
  },
  "orig_nbformat": 4,
  "vscode": {
   "interpreter": {
    "hash": "fc96793480f0a523994f2aff7cbd3c887b4440660ca1f552196cf2be9f38aa3b"
   }
  }
 },
 "nbformat": 4,
 "nbformat_minor": 2
}
