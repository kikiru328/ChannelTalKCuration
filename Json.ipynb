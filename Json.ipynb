{
 "cells": [
  {
   "cell_type": "code",
   "execution_count": 41,
   "metadata": {},
   "outputs": [],
   "source": [
    "import json\n",
    "with open('./content.json','r',encoding='UTF-8-sig') as file_:\n",
    "    content = json.load(file_)"
   ]
  },
  {
   "cell_type": "code",
   "execution_count": 42,
   "metadata": {},
   "outputs": [
    {
     "data": {
      "text/plain": [
       "dict_keys(['event', 'entity', 'refers', 'type'])"
      ]
     },
     "execution_count": 42,
     "metadata": {},
     "output_type": "execute_result"
    }
   ],
   "source": [
    "content.keys()"
   ]
  },
  {
   "cell_type": "code",
   "execution_count": 47,
   "metadata": {},
   "outputs": [
    {
     "data": {
      "text/plain": [
       "True"
      ]
     },
     "execution_count": 47,
     "metadata": {},
     "output_type": "execute_result"
    }
   ],
   "source": [
    "content.get('refers').get('user')['profile']['thirdPartyAgree']\n"
   ]
  },
  {
   "cell_type": "code",
   "execution_count": 13,
   "metadata": {},
   "outputs": [],
   "source": [
    "chat_ID = content.get('refers').get('message')['chatId']\n",
    "user_name = content.get('refers').get('user')['profile']['name']\n",
    "user_height = content.get('refers').get('user')['profile']['height']\n",
    "user_weight = content.get('refers').get('user')['profile']['weight']\n",
    "user_age = content.get('refers').get('user')['profile']['age']\n",
    "user_activation = content.get('refers').get('user')['profile']['activation']\n",
    "user_goal = content.get('refers').get('user')['profile']['goal']\n",
    "user_hydrate =content.get('refers').get('user')['profile']['hydrate']\n",
    "user_worries =content.get('refers').get('user')['profile']['worries']\n",
    "user_dining = content.get('refers').get('user')['profile']['number_dining']\n",
    "user_goal_shape =content.get('refers').get('user')['profile']['goal_shape']"
   ]
  },
  {
   "cell_type": "code",
   "execution_count": 16,
   "metadata": {},
   "outputs": [
    {
     "name": "stdout",
     "output_type": "stream",
     "text": [
      "62cb911a7d3fe6be0148\n",
      "bbbbb\n",
      "180\n",
      "180\n",
      "32\n",
      "꽤있다 (주4회)\n",
      "5Kg 미만의 감량을 원하세요?\n",
      "1.5L 이하\n",
      "['빠른 체중 감량 (3개월 이내)', '자극적이지 않은 식사']\n",
      "3회\n",
      "잔근육의 마른 체형\n"
     ]
    }
   ],
   "source": [
    "print(chat_ID)\n",
    "print(user_name)\n",
    "print(user_height)\n",
    "print(user_weight)\n",
    "print(user_age)\n",
    "print(user_activation)\n",
    "print(user_goal)\n",
    "print(user_hydrate)\n",
    "print(user_worries)\n",
    "print(user_dining)\n",
    "print(user_goal_shape)"
   ]
  },
  {
   "cell_type": "code",
   "execution_count": 158,
   "metadata": {},
   "outputs": [
    {
     "data": {
      "text/plain": [
       "['빠른 체중 감량 (3개월 이내)', '자극적이지 않은 식사']"
      ]
     },
     "execution_count": 158,
     "metadata": {},
     "output_type": "execute_result"
    }
   ],
   "source": [
    "user_worries"
   ]
  },
  {
   "cell_type": "code",
   "execution_count": null,
   "metadata": {},
   "outputs": [],
   "source": [
    "json_data ={\n",
    "    'blocks':[\n",
    "        {\n",
    "            'type':'text',\n",
    "            'value':'활동량'\n",
    "        },\n",
    "        {\n",
    "            'type':'text',\n",
    "            'value':'골'\n",
    "        },\n",
    "        {\n",
    "            'type':'text',\n",
    "            'value':'섭취량'\n",
    "        },\n",
    "        {\n",
    "            'type':'bullets',\n",
    "            'blocks':[\n",
    "                {\n",
    "                    {\n",
    "                        'type':'text',\n",
    "                        'value':'탄수화물'\n",
    "                    },\n",
    "                    {\n",
    "                        'type':'text',\n",
    "                        'value':'단백질'\n",
    "                    },\n",
    "                    {\n",
    "                        'type':'text',\n",
    "                        'value':'지방'\n",
    "                    }\n",
    "                }\n",
    "            ]\n",
    "        }\n",
    "    ]\n",
    "}"
   ]
  },
  {
   "cell_type": "code",
   "execution_count": null,
   "metadata": {},
   "outputs": [],
   "source": [
    "    json_data = {\n",
    "        'blocks': [\n",
    "            {\n",
    "                'type': 'text',\n",
    "                'value': f'활동량이 {user_activation}\\n\\n'\n",
    "            },\n",
    "            {\n",
    "                'type': 'text',\n",
    "                'value': f'{user_goal}\\n\\n\\n'\n",
    "            },\n",
    "            {\n",
    "                'type': 'text',\n",
    "                'value': f'\\n<b>[{user_name}]</b>님의 <b>하루 총 섭취량</b>을 알려드릴게요!\\n\\n'\n",
    "            },\n",
    "            {\n",
    "                'type': 'bullets',\n",
    "                'blocks':[\n",
    "                    {\n",
    "                        'type':'text',\n",
    "                        'value':f'<b>탄수화물 {carbohydrate}g</b>'\n",
    "                    },\n",
    "                    {\n",
    "                        'type':'text',\n",
    "                        'value':f'<b>단백질 {protein}g</b>'\n",
    "                    },\n",
    "                    {\n",
    "                        'type':'text',\n",
    "                        'value':f'<b>지방 {fat}g</b>'\n",
    "                    }\n",
    "                ]\n",
    "            },\n",
    "            {\n",
    "                'type':'text',\n",
    "                'value':'\\n\\n총 <b>4번</b>에 나누어 섭취하시면 되세요!\\n'\n",
    "            },\n",
    "            {\n",
    "                'type': 'text',\n",
    "                'value': f'따라서 <b>한 끼 섭취 칼로리</b>는 아래와 같아요!\\n\\n'\n",
    "            },\n",
    "            {\n",
    "                'type':'bullets',\n",
    "                'blocks':[\n",
    "                    {\n",
    "                        'type':'text',\n",
    "                        'value':f'<b>탄수화물 {int(carbohydrate/4)}g</b>'\n",
    "                    },\n",
    "                    {\n",
    "                        'type':'text',\n",
    "                        'value':f'<b>단백질 {int(protein/4)}g</b>'\n",
    "                    },\n",
    "                    {\n",
    "                        'type':'text',\n",
    "                        'value':f'<b>지방 {int(fat/4)}g</b>'\n",
    "                    }\n",
    "                    \n",
    "                ]\n",
    "            },\n",
    "            {\n",
    "                'type': 'text',\n",
    "                'value': f'\\n\\n<b>탄수화물 {int(carbohydrate/4)}g</b>을 섭취하기 위해서는\\n아래를 참조해주세요!\\n\\n' \n",
    "            },\n",
    "            {\n",
    "                'type':'bullets',\n",
    "                'blocks':[\n",
    "                    {\n",
    "                        'type':'text',\n",
    "                        'value':f'바나나 {round((int(carbohydrate/4)/27),1)}개'\n",
    "                    },\n",
    "                    {\n",
    "                        'type':'text',\n",
    "                        'value':f'단호박 {round((int(carbohydrate/4)/1.8),1)}g'\n",
    "                    },\n",
    "                    {\n",
    "                        'type':'text',\n",
    "                        'value':f'고구마 {round((int(carbohydrate/4)/3.1),1)}g'\n",
    "                    },\n",
    "                    {\n",
    "                        'type':'text',\n",
    "                        'value':f'현미밥 {round((int(carbohydrate/4)/3.3),1)}g'\n",
    "                    },\n",
    "                    {\n",
    "                        'type':'text',\n",
    "                        'value':f'오트밀 {round((int(carbohydrate/4)/6.9),1)}g'\n",
    "                    },\n",
    "\n",
    "                ]\n",
    "            },\n",
    "            {\n",
    "                'type': 'text',\n",
    "                'value': f'\\n\\n<b>단백질 {int(protein/4)}g</b>을 섭취하기 위해서는\\n아래를 참조해주세요!\\n\\n' \n",
    "            },\n",
    "            {\n",
    "                'type':'blocks',\n",
    "                'blocks':[\n",
    "                    {\n",
    "                        'type':'text',\n",
    "                        'value':f'닭가슴살 {round((int(protein/4)/2.2),1)}g' \n",
    "                    },\n",
    "                    {\n",
    "                        'type':'text',\n",
    "                        'value':f'돼지안심 {round((int(protein/4)/2),1)}g'\n",
    "                    },\n",
    "                    {\n",
    "                        'type':'text',\n",
    "                        'value':f'돼지목살 {round((int(protein/4)/2.1),1)}g'\n",
    "                    },\n",
    "                    {\n",
    "                        'type':'text',\n",
    "                        'value':f'소우둔살 {round((int(protein/4)/2),1)}g'\n",
    "                    },\n",
    "                    {\n",
    "                        'type':'text',\n",
    "                        'value':f'두부 {round((int(protein/4)/0.8),1)}g'\n",
    "                    },\n",
    "                    {\n",
    "                        'type':'text',\n",
    "                        'value':f'연어 {round((int(protein/4)/2.1),1)}g'\n",
    "                    },\n",
    "                    {\n",
    "                        'type':'text',\n",
    "                        'value':f'계란 {round((int(protein/4)/0.6),1)}g'\n",
    "                    },\n",
    "                    {\n",
    "                        'type':'text',\n",
    "                        'value':f'참치 {round((int(protein/4)/1.9),1)}g'\n",
    "                    },\n",
    "                    \n",
    "                ]\n",
    "            }\n",
    "            ]\n",
    "        } \n"
   ]
  },
  {
   "cell_type": "code",
   "execution_count": null,
   "metadata": {},
   "outputs": [],
   "source": []
  },
  {
   "cell_type": "code",
   "execution_count": null,
   "metadata": {},
   "outputs": [],
   "source": []
  },
  {
   "cell_type": "code",
   "execution_count": null,
   "metadata": {},
   "outputs": [],
   "source": []
  },
  {
   "cell_type": "code",
   "execution_count": null,
   "metadata": {},
   "outputs": [],
   "source": []
  },
  {
   "cell_type": "code",
   "execution_count": null,
   "metadata": {},
   "outputs": [],
   "source": []
  },
  {
   "cell_type": "code",
   "execution_count": 159,
   "metadata": {},
   "outputs": [
    {
     "data": {
      "text/plain": [
       "<function Util.second_block(chat_ID, content)>"
      ]
     },
     "execution_count": 159,
     "metadata": {},
     "output_type": "execute_result"
    }
   ],
   "source": [
    "import Util\n",
    "Util.second_block"
   ]
  },
  {
   "cell_type": "code",
   "execution_count": null,
   "metadata": {},
   "outputs": [],
   "source": []
  },
  {
   "cell_type": "code",
   "execution_count": 40,
   "metadata": {},
   "outputs": [
    {
     "name": "stdout",
     "output_type": "stream",
     "text": [
      "aa\n",
      "\n",
      "\n",
      "bb\n"
     ]
    }
   ],
   "source": [
    "print(\n",
    "    'aa\\n\\n\\nbb'\n",
    ")"
   ]
  },
  {
   "cell_type": "code",
   "execution_count": 112,
   "metadata": {},
   "outputs": [],
   "source": [
    "json_data = {\n",
    "    'blocks': [\n",
    "        {\n",
    "            'type': 'text',\n",
    "            'value': '앞으로도 좋은 타이밍에 식사 해주세요!'                \n",
    "        },\n",
    "        {\n",
    "            'type':'bullets',\n",
    "            'blocks':[{\n",
    "                'type':'text',\n",
    "                'value':'first_bullet'\n",
    "            },\n",
    "            {\n",
    "                'type':'text',\n",
    "                'value':'second_bullet'\n",
    "            }]\n",
    "        }\n",
    "            \n",
    "        ]\n",
    "    } "
   ]
  },
  {
   "cell_type": "code",
   "execution_count": 153,
   "metadata": {},
   "outputs": [],
   "source": [
    "A = {\n",
    "    'blocks':[\n",
    "        {\n",
    "            'type':'text',\n",
    "            'value': '<b>[{user_name}]</b>님의 식단관리에\\n도움을 줄 수 있는 제품이에요.\\n\\n<b>탄수화물 {int(carbohydrate/4)}g</b>와 <b>단백질 {int(protein/4)}g</b>의 \\n<b>한끼 권장 섭취량</b>에 맞는\\n식단을 준비했어요.\\n\\n식단관리를 쉽고 편하게 시작해보세요!\\n\\n'\n",
    "        }\n",
    "    ]\n",
    "}"
   ]
  },
  {
   "cell_type": "code",
   "execution_count": 154,
   "metadata": {},
   "outputs": [],
   "source": [
    "yun_diet_main= {\n",
    "                    'type':'text',\n",
    "                    'value':'\\n고객님의 식단관리를 간편하게 도와줄\\n<b>윤식단 맞춤 정기구독</b>을 추천해 드려요!\\n\\n'\n",
    "                }\n",
    "yun_diet_link =                 {\n",
    "                    'type':'bullets',\n",
    "                    'blocks':[\n",
    "                        {\n",
    "                            'type':'text',\n",
    "                            'value': '<link type=\"url\" value=\"https://smartstore.naver.com/yundiet/products/6032323719\">\"윤식단 샐러드 정기배송1일 1식 20일\\n프로그램 도시락 배달\\n건강 식단 새벽 구독 저염\"</link>'   \n",
    "                        }\n",
    "                    ]\n",
    "                }"
   ]
  },
  {
   "cell_type": "code",
   "execution_count": 155,
   "metadata": {},
   "outputs": [],
   "source": [
    "def BB(A):\n",
    "    A.get('blocks').append(yun_diet_main)\n",
    "    A.get('blocks').append(yun_diet_link)"
   ]
  },
  {
   "cell_type": "code",
   "execution_count": 156,
   "metadata": {},
   "outputs": [],
   "source": [
    "json_data = BB(A)"
   ]
  },
  {
   "cell_type": "code",
   "execution_count": 157,
   "metadata": {},
   "outputs": [],
   "source": [
    "json_data"
   ]
  },
  {
   "cell_type": "code",
   "execution_count": 144,
   "metadata": {},
   "outputs": [
    {
     "data": {
      "text/plain": [
       "<function __main__.BB(A)>"
      ]
     },
     "execution_count": 144,
     "metadata": {},
     "output_type": "execute_result"
    }
   ],
   "source": []
  },
  {
   "cell_type": "code",
   "execution_count": 129,
   "metadata": {},
   "outputs": [
    {
     "data": {
      "text/plain": [
       "[{'type': 'text',\n",
       "  'value': '<link type=\"url\" value=\"https://smartstore.naver.com/yundiet/products/6032323719\">\"윤식단 샐러드 정기배송1일 1식 20일\\n프로그램 도시락 배달\\n건강 식단 새벽 구독 저염\"</link>'}]"
      ]
     },
     "execution_count": 129,
     "metadata": {},
     "output_type": "execute_result"
    }
   ],
   "source": [
    "A.get('blocks')[2].get('blocks')"
   ]
  },
  {
   "cell_type": "code",
   "execution_count": null,
   "metadata": {},
   "outputs": [],
   "source": [
    "json_data = {\n",
    "            'blocks': [\n",
    "                {\n",
    "                    'type': 'text',\n",
    "                    'value': f'<b>[{user_name}]</b>님의 식단관리에\\n도움을 줄 수 있는 제품이에요.\\n\\n<b>탄수화물 {int(carbohydrate/4)}g</b>와 <b>단백질 {int(protein/4)}g</b>의 \\n<b>한끼 권장 섭취량</b>에 맞는\\n식단을 준비했어요.\\n\\n식단관리를 쉽고 편하게 시작해보세요!\\n\\n'\n",
    "                },\n",
    "                {\n",
    "                    'type':'text',\n",
    "                    'value':'\\n고객님의 식단관리를 간편하게 도와줄\\n<b>윤식단 맞춤 정기구독</b>을 추천해 드려요!\\n\\n'\n",
    "                },\n",
    "                {\n",
    "                    'type':'bullets',\n",
    "                    'blocks':[\n",
    "                        {\n",
    "                            'type':'text',\n",
    "                            'value': '<link type=\"url\" value=\"https://smartstore.naver.com/yundiet/products/6032323719\">\"윤식단 샐러드 정기배송1일 1식 20일\\n프로그램 도시락 배달\\n건강 식단 새벽 구독 저염\"</link>'   \n",
    "                        }\n",
    "                    ]\n",
    "                },\n",
    "                {\n",
    "                    'type':'text',\n",
    "                    'value':'\\n공복 섭취시 체지방 감소에 도움이 되는\\n<b>ABC주스</b>를 추천해 드려요!\\n\\n'   \n",
    "                },\n",
    "                {\n",
    "                    'type':'bullets',\n",
    "                    'blocks':[\n",
    "                        {\n",
    "                            'type':'text',\n",
    "                            'value':'<link type=\"url\" value=\"https://smartstore.naver.com/latib/products/4661326066?n_media=27758&n_query=%EB%9D%BC%ED%8B%B0%EB%B8%8C&n_rank=1&n_ad_group=grp-a001-02-000000027136859&n_ad=nad-a001-02-000000183759162&n_campaign_type=2&n_mall_id=ncp_1nt80m_01&n_mall_pid=4661326066&n_ad_group_type=2&NaPm=ct%3Dl5dnidx4%7Cci%3D0A80001FeGzw4OvR%5F0ZH%7Ctr%3Dpla%7Chk%3Dd633f149dc91e977e4d06d49e2d3db59c256261c\">\"라티브 ABC쥬스 클렌즈 건강 주스\\n200ml x 10포\"</link>'\n",
    "                        }\n",
    "                    ]\n",
    "                }\n",
    "                ]\n",
    "            } \n"
   ]
  }
 ],
 "metadata": {
  "kernelspec": {
   "display_name": "Python 3.9.13 ('flask')",
   "language": "python",
   "name": "python3"
  },
  "language_info": {
   "codemirror_mode": {
    "name": "ipython",
    "version": 3
   },
   "file_extension": ".py",
   "mimetype": "text/x-python",
   "name": "python",
   "nbconvert_exporter": "python",
   "pygments_lexer": "ipython3",
   "version": "3.9.13"
  },
  "orig_nbformat": 4,
  "vscode": {
   "interpreter": {
    "hash": "599c463adfc593d5c107f66c72e1082c99f6ea00c263d4dfdf36c7ebac615176"
   }
  }
 },
 "nbformat": 4,
 "nbformat_minor": 2
}
